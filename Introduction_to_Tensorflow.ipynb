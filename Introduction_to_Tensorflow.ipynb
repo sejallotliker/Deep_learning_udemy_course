{
  "nbformat": 4,
  "nbformat_minor": 0,
  "metadata": {
    "colab": {
      "provenance": [],
      "authorship_tag": "ABX9TyMlFJWbzhebQxFc8/GZCgJ0",
      "include_colab_link": true
    },
    "kernelspec": {
      "name": "python3",
      "display_name": "Python 3"
    },
    "language_info": {
      "name": "python"
    }
  },
  "cells": [
    {
      "cell_type": "markdown",
      "metadata": {
        "id": "view-in-github",
        "colab_type": "text"
      },
      "source": [
        "<a href=\"https://colab.research.google.com/github/sejallotliker/Deep_learning_udemy_course/blob/Tensorflow_basics/Introduction_to_Tensorflow.ipynb\" target=\"_parent\"><img src=\"https://colab.research.google.com/assets/colab-badge.svg\" alt=\"Open In Colab\"/></a>"
      ]
    },
    {
      "cell_type": "code",
      "execution_count": null,
      "metadata": {
        "colab": {
          "base_uri": "https://localhost:8080/",
          "height": 35
        },
        "id": "TH7Zcb3qVCEQ",
        "outputId": "bc931862-2370-453a-f884-63ca4fc93184"
      },
      "outputs": [
        {
          "output_type": "execute_result",
          "data": {
            "text/plain": [
              "'2.12.0'"
            ],
            "application/vnd.google.colaboratory.intrinsic+json": {
              "type": "string"
            }
          },
          "metadata": {},
          "execution_count": 2
        }
      ],
      "source": [
        "import tensorflow as tf\n",
        "import numpy as np\n",
        "\n",
        "tf.__version__"
      ]
    },
    {
      "cell_type": "code",
      "source": [
        "#To create a Tensor (rank 0 tensor--> scalar)\n",
        "a=tf.constant(3)\n",
        "print(a)"
      ],
      "metadata": {
        "colab": {
          "base_uri": "https://localhost:8080/"
        },
        "id": "EQyZLBtSVgOP",
        "outputId": "fa93af2d-9ad8-470d-aa6c-f823f30947b9"
      },
      "execution_count": null,
      "outputs": [
        {
          "output_type": "stream",
          "name": "stdout",
          "text": [
            "tf.Tensor(3, shape=(), dtype=int32)\n"
          ]
        }
      ]
    },
    {
      "cell_type": "code",
      "source": [
        "#rank 1 Tensor\n",
        "b=tf.constant([1, 2, 3, 4])\n",
        "print(b)"
      ],
      "metadata": {
        "colab": {
          "base_uri": "https://localhost:8080/"
        },
        "id": "zxqv3UjzV0cC",
        "outputId": "9770a50a-d8fc-4396-e234-1ded869a9e21"
      },
      "execution_count": null,
      "outputs": [
        {
          "output_type": "stream",
          "name": "stdout",
          "text": [
            "tf.Tensor([1 2 3 4], shape=(4,), dtype=int32)\n"
          ]
        }
      ]
    },
    {
      "cell_type": "code",
      "source": [
        "#Rank 2 Tensor\n",
        "c=tf.constant([[1,2], [3,4]]) #Matrix type tensor\n",
        "print(c)"
      ],
      "metadata": {
        "colab": {
          "base_uri": "https://localhost:8080/"
        },
        "id": "qPmkmNXSWE_G",
        "outputId": "7319c36d-1ef1-4ed8-c29c-90b8009401cd"
      },
      "execution_count": null,
      "outputs": [
        {
          "output_type": "stream",
          "name": "stdout",
          "text": [
            "tf.Tensor(\n",
            "[[1 2]\n",
            " [3 4]], shape=(2, 2), dtype=int32)\n"
          ]
        }
      ]
    },
    {
      "cell_type": "code",
      "source": [
        "#Converting a numpy array to a Tensor\n",
        "array= np.array([1,2,3,4])\n",
        "print(\"Before\", array)\n",
        "array=tf.convert_to_tensor(array)\n",
        "print(\"After\", array)"
      ],
      "metadata": {
        "colab": {
          "base_uri": "https://localhost:8080/"
        },
        "id": "Hcl6kFzDWUpO",
        "outputId": "3c035bf5-3432-4ff6-de95-132aafe58a81"
      },
      "execution_count": null,
      "outputs": [
        {
          "output_type": "stream",
          "name": "stdout",
          "text": [
            "Before [1 2 3 4]\n",
            "After tf.Tensor([1 2 3 4], shape=(4,), dtype=int64)\n"
          ]
        }
      ]
    },
    {
      "cell_type": "markdown",
      "source": [
        "Arithmetic operations on Tensor"
      ],
      "metadata": {
        "id": "ILo9dqnFXHXo"
      }
    },
    {
      "cell_type": "code",
      "source": [
        "#Sample 2D tensor\n",
        "tensor=tf.constant([[1,2], [3,4]])\n"
      ],
      "metadata": {
        "id": "EKSbsn0lW33h"
      },
      "execution_count": null,
      "outputs": []
    },
    {
      "cell_type": "code",
      "source": [
        "#Add 1 to all positions\n",
        "tensor=tf.add(tensor,1)\n",
        "print(\"added 1\", tensor)"
      ],
      "metadata": {
        "colab": {
          "base_uri": "https://localhost:8080/"
        },
        "id": "srRiVBQ7XUD2",
        "outputId": "87ce842f-d986-4a2c-930c-3c1b87bcee4c"
      },
      "execution_count": null,
      "outputs": [
        {
          "output_type": "stream",
          "name": "stdout",
          "text": [
            "added_1 tf.Tensor(\n",
            "[[2 3]\n",
            " [4 5]], shape=(2, 2), dtype=int32)\n"
          ]
        }
      ]
    },
    {
      "cell_type": "code",
      "source": [
        "#subtract 1 from all positions\n",
        "tensor=tf.subtract(tensor,1)\n",
        "print(\"subtracted 1\", tensor)"
      ],
      "metadata": {
        "colab": {
          "base_uri": "https://localhost:8080/"
        },
        "id": "ArpZoXbMXjd_",
        "outputId": "b294cf3b-3c53-4778-a345-5cb752161342"
      },
      "execution_count": null,
      "outputs": [
        {
          "output_type": "stream",
          "name": "stdout",
          "text": [
            "subtracted 1 tf.Tensor(\n",
            "[[1 2]\n",
            " [3 4]], shape=(2, 2), dtype=int32)\n"
          ]
        }
      ]
    },
    {
      "cell_type": "code",
      "source": [
        "#multiply 2 from all positions\n",
        "tensor=tf.multiply(tensor,2)\n",
        "print(\"multiplied 2\", tensor)"
      ],
      "metadata": {
        "colab": {
          "base_uri": "https://localhost:8080/"
        },
        "id": "THo75fdwXz1-",
        "outputId": "26f7a2e3-ada7-4c18-8233-9a0b79069950"
      },
      "execution_count": null,
      "outputs": [
        {
          "output_type": "stream",
          "name": "stdout",
          "text": [
            "multiplied 1 tf.Tensor(\n",
            "[[2 4]\n",
            " [6 8]], shape=(2, 2), dtype=int32)\n"
          ]
        }
      ]
    },
    {
      "cell_type": "code",
      "source": [
        "#divide 2 from all positions\n",
        "tensor=tf.divide(tensor,2)\n",
        "print(\"divide 2\", tensor)"
      ],
      "metadata": {
        "colab": {
          "base_uri": "https://localhost:8080/"
        },
        "id": "pFoM43D0YCGV",
        "outputId": "16cb6833-cfd3-43f0-e1a1-54a0e5139002"
      },
      "execution_count": null,
      "outputs": [
        {
          "output_type": "stream",
          "name": "stdout",
          "text": [
            "divide 2 tf.Tensor(\n",
            "[[0.5 1. ]\n",
            " [1.5 2. ]], shape=(2, 2), dtype=float64)\n"
          ]
        }
      ]
    },
    {
      "cell_type": "markdown",
      "source": [
        "Matrix Multiplication"
      ],
      "metadata": {
        "id": "hoh95k5EYPof"
      }
    },
    {
      "cell_type": "code",
      "source": [
        "tensor=tf.constant([[1,2], [3,4]])\n",
        "tf.matmul(tensor, tensor)"
      ],
      "metadata": {
        "colab": {
          "base_uri": "https://localhost:8080/"
        },
        "id": "qyE-BYUMYSYe",
        "outputId": "015f824a-89ad-40ac-a307-1cb15b66f5ac"
      },
      "execution_count": null,
      "outputs": [
        {
          "output_type": "execute_result",
          "data": {
            "text/plain": [
              "<tf.Tensor: shape=(2, 2), dtype=int32, numpy=\n",
              "array([[ 7, 10],\n",
              "       [15, 22]], dtype=int32)>"
            ]
          },
          "metadata": {},
          "execution_count": 16
        }
      ]
    },
    {
      "cell_type": "code",
      "source": [
        "tensor=tf.constant([[1,2], [3,4]])\n",
        "tf.multiply(tensor, tensor)"
      ],
      "metadata": {
        "colab": {
          "base_uri": "https://localhost:8080/"
        },
        "id": "SnDxPJLdYlH1",
        "outputId": "9101f3b5-72b4-4124-f55a-893e7de00808"
      },
      "execution_count": null,
      "outputs": [
        {
          "output_type": "execute_result",
          "data": {
            "text/plain": [
              "<tf.Tensor: shape=(2, 2), dtype=int32, numpy=\n",
              "array([[ 1,  4],\n",
              "       [ 9, 16]], dtype=int32)>"
            ]
          },
          "metadata": {},
          "execution_count": 17
        }
      ]
    },
    {
      "cell_type": "markdown",
      "source": [
        "#Activation Functions in Neural Network"
      ],
      "metadata": {
        "id": "HVdomYzfZ3um"
      }
    },
    {
      "cell_type": "code",
      "source": [
        "#To build a neural network using activation functions\n",
        "tensor=tf.constant([[1,2], [5, 10]], dtype=tf.float64)\n",
        "tensor"
      ],
      "metadata": {
        "colab": {
          "base_uri": "https://localhost:8080/"
        },
        "id": "ZK8gFsQgYxXu",
        "outputId": "1539ee06-8832-438d-fb32-be945dfce58e"
      },
      "execution_count": null,
      "outputs": [
        {
          "output_type": "execute_result",
          "data": {
            "text/plain": [
              "<tf.Tensor: shape=(2, 2), dtype=float64, numpy=\n",
              "array([[ 1.,  2.],\n",
              "       [ 5., 10.]])>"
            ]
          },
          "metadata": {},
          "execution_count": 19
        }
      ]
    },
    {
      "cell_type": "code",
      "source": [
        "#applying softmax\n",
        "tf.nn.softmax(tensor)"
      ],
      "metadata": {
        "colab": {
          "base_uri": "https://localhost:8080/"
        },
        "id": "YQlGTR4YZSMV",
        "outputId": "ca32d724-d03e-4aeb-b1ec-fdb4dd3c4a06"
      },
      "execution_count": null,
      "outputs": [
        {
          "output_type": "execute_result",
          "data": {
            "text/plain": [
              "<tf.Tensor: shape=(2, 2), dtype=float64, numpy=\n",
              "array([[0.26894142, 0.73105858],\n",
              "       [0.00669285, 0.99330715]])>"
            ]
          },
          "metadata": {},
          "execution_count": 20
        }
      ]
    },
    {
      "cell_type": "code",
      "source": [
        "#applying sigmoid\n",
        "tf.nn.sigmoid(tensor)"
      ],
      "metadata": {
        "colab": {
          "base_uri": "https://localhost:8080/"
        },
        "id": "HwZJpZ6LZa2P",
        "outputId": "b8e0526d-3a0e-4f26-ac3f-04dfa22af337"
      },
      "execution_count": null,
      "outputs": [
        {
          "output_type": "execute_result",
          "data": {
            "text/plain": [
              "<tf.Tensor: shape=(2, 2), dtype=float64, numpy=\n",
              "array([[0.73105858, 0.88079708],\n",
              "       [0.99330715, 0.9999546 ]])>"
            ]
          },
          "metadata": {},
          "execution_count": 21
        }
      ]
    },
    {
      "cell_type": "code",
      "source": [
        "#Applying relu\n",
        "tf.nn.relu(tensor)"
      ],
      "metadata": {
        "colab": {
          "base_uri": "https://localhost:8080/"
        },
        "id": "s9fgHAmYZk5t",
        "outputId": "17952055-3776-4357-e5d6-dddcb6000b08"
      },
      "execution_count": null,
      "outputs": [
        {
          "output_type": "execute_result",
          "data": {
            "text/plain": [
              "<tf.Tensor: shape=(2, 2), dtype=float64, numpy=\n",
              "array([[ 1.,  2.],\n",
              "       [ 5., 10.]])>"
            ]
          },
          "metadata": {},
          "execution_count": 22
        }
      ]
    },
    {
      "cell_type": "code",
      "source": [
        "#Applying leaky relu\n",
        "tf.nn.leaky_relu(tensor)"
      ],
      "metadata": {
        "colab": {
          "base_uri": "https://localhost:8080/"
        },
        "id": "D8-YY6lVZsVt",
        "outputId": "324a58f9-2274-469d-f9f1-298152308cb8"
      },
      "execution_count": null,
      "outputs": [
        {
          "output_type": "execute_result",
          "data": {
            "text/plain": [
              "<tf.Tensor: shape=(2, 2), dtype=float64, numpy=\n",
              "array([[ 1.,  2.],\n",
              "       [ 5., 10.]])>"
            ]
          },
          "metadata": {},
          "execution_count": 23
        }
      ]
    },
    {
      "cell_type": "markdown",
      "source": [
        "#Optimizers"
      ],
      "metadata": {
        "id": "SNJTSTf-Z9xm"
      }
    },
    {
      "cell_type": "code",
      "source": [
        "optimizer=tf.keras.optimizers.Adam()\n",
        "print(optimizer)"
      ],
      "metadata": {
        "colab": {
          "base_uri": "https://localhost:8080/"
        },
        "id": "f99tqgIuZ9V-",
        "outputId": "7585de26-dc6b-4ea9-8ec1-23b42d72f460"
      },
      "execution_count": null,
      "outputs": [
        {
          "output_type": "stream",
          "name": "stdout",
          "text": [
            "<keras.optimizers.adam.Adam object at 0x7f9f043ce0e0>\n"
          ]
        }
      ]
    },
    {
      "cell_type": "markdown",
      "source": [
        "#Basic structure of a neural network"
      ],
      "metadata": {
        "id": "z6_umVe7aTtX"
      }
    },
    {
      "cell_type": "code",
      "source": [
        "#Start your model with sequential Object\n",
        "model=tf.keras.models.Sequential()\n",
        "\n",
        "#Next add in your input object and specify the dimension you want to pass in\n",
        "model.add(tf.keras.Input(shape=(10,))) #no of columns\n",
        "\n",
        "#Add in your Neurons of 1st layer\n",
        "model.add(tf.keras.layers.Dense(32))\n",
        "\n",
        "#2nd layer\n",
        "model.add(tf.keras.layers.Dense(16))\n",
        "\n",
        "#Print summary to understand your neural network flow\n",
        "model.summary()"
      ],
      "metadata": {
        "colab": {
          "base_uri": "https://localhost:8080/"
        },
        "id": "hPiLO_nZaSUl",
        "outputId": "52827a52-f735-464a-edca-8c8357b75b84"
      },
      "execution_count": null,
      "outputs": [
        {
          "output_type": "stream",
          "name": "stdout",
          "text": [
            "Model: \"sequential_2\"\n",
            "_________________________________________________________________\n",
            " Layer (type)                Output Shape              Param #   \n",
            "=================================================================\n",
            " dense_2 (Dense)             (None, 32)                352       \n",
            "                                                                 \n",
            " dense_3 (Dense)             (None, 16)                528       \n",
            "                                                                 \n",
            "=================================================================\n",
            "Total params: 880\n",
            "Trainable params: 880\n",
            "Non-trainable params: 0\n",
            "_________________________________________________________________\n"
          ]
        }
      ]
    },
    {
      "cell_type": "code",
      "source": [],
      "metadata": {
        "id": "I2Vpg9SRbzRF"
      },
      "execution_count": null,
      "outputs": []
    }
  ]
}